{
 "cells": [
  {
   "cell_type": "code",
   "execution_count": 1,
   "metadata": {
    "collapsed": false
   },
   "outputs": [
    {
     "name": "stdout",
     "output_type": "stream",
     "text": [
      "application/json\n",
      "[{\"ID\":\"1\",\"NAME\":\"test\",\"MESSAGE\":\"hello\",\"IDUSER\":\"1\"}, {\"ID\":\"1\",\"NAME\":\"test\",\"MESSAGE\":\"how are you\",\"IDUSER\":\"1\"}, {\"ID\":\"1\",\"NAME\":\"test\",\"MESSAGE\":\"where are you\",\"IDUSER\":\"1\"}, {\"ID\":\"1\",\"NAME\":\"test\",\"MESSAGE\":\"are you there\",\"IDUSER\":\"1\"}]\n"
     ]
    }
   ],
   "source": [
    "import requests\n",
    "r = requests.get('http://localhost:8080/all')\n",
    "\n",
    "print(r.headers['content-type'])\n",
    "\n",
    "print(r.text)\n"
   ]
  },
  {
   "cell_type": "code",
   "execution_count": null,
   "metadata": {
    "collapsed": true
   },
   "outputs": [],
   "source": []
  }
 ],
 "metadata": {
  "kernelspec": {
   "display_name": "Python 2",
   "language": "python",
   "name": "python2"
  },
  "language_info": {
   "codemirror_mode": {
    "name": "ipython",
    "version": 2
   },
   "file_extension": ".py",
   "mimetype": "text/x-python",
   "name": "python",
   "nbconvert_exporter": "python",
   "pygments_lexer": "ipython2",
   "version": "2.7.9"
  }
 },
 "nbformat": 4,
 "nbformat_minor": 0
}
